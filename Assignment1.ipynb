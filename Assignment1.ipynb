{
 "cells": [
  {
   "cell_type": "code",
   "execution_count": 102,
   "id": "a1e8bca1",
   "metadata": {
    "scrolled": false
   },
   "outputs": [
    {
     "name": "stdout",
     "output_type": "stream",
     "text": [
      "Enter the study time in 1 week :\n",
      "Enter the time spent on COMM5961:10\n",
      "Enter the time spent on COMM5950:12\n",
      "Enter the time spent on COMM5775:14\n",
      "Enter the time spent on COMM5942:15\n",
      "Enter the study time in 2 week :\n",
      "Enter the time spent on COMM5961:2\n",
      "Enter the time spent on COMM5950:4\n",
      "Enter the time spent on COMM5775:8\n",
      "Enter the time spent on COMM5942:7\n",
      "Enter the study time in 3 week :\n",
      "Enter the time spent on COMM5961:6\n",
      "Enter the time spent on COMM5950:8\n",
      "Enter the time spent on COMM5775:7\n",
      "Enter the time spent on COMM5942:9\n",
      "Enter the study time in 4 week :\n",
      "Enter the time spent on COMM5961:4\n",
      "Enter the time spent on COMM5950:10\n",
      "Enter the time spent on COMM5775:12\n",
      "Enter the time spent on COMM5942:13\n",
      "[{'COMM5961': '10', 'COMM5950': '12', 'COMM5775': '14', 'COMM5942': '15'}, {'COMM5961': '2', 'COMM5950': '4', 'COMM5775': '8', 'COMM5942': '7'}, {'COMM5961': '6', 'COMM5950': '8', 'COMM5775': '7', 'COMM5942': '9'}, {'COMM5961': '4', 'COMM5950': '10', 'COMM5775': '12', 'COMM5942': '13'}]\n",
      "            COMM5961 COMM5950 COMM5775 COMM5942\n",
      "fist week         10       12       14       15\n",
      "second week        2        4        8        7\n",
      "third week         6        8        7        9\n",
      "fourth week        4       10       12       13\n"
     ]
    },
    {
     "data": {
      "text/html": [
       "<div>\n",
       "<style scoped>\n",
       "    .dataframe tbody tr th:only-of-type {\n",
       "        vertical-align: middle;\n",
       "    }\n",
       "\n",
       "    .dataframe tbody tr th {\n",
       "        vertical-align: top;\n",
       "    }\n",
       "\n",
       "    .dataframe thead th {\n",
       "        text-align: right;\n",
       "    }\n",
       "</style>\n",
       "<table border=\"1\" class=\"dataframe\">\n",
       "  <thead>\n",
       "    <tr style=\"text-align: right;\">\n",
       "      <th></th>\n",
       "      <th>COMM5961</th>\n",
       "      <th>COMM5950</th>\n",
       "      <th>COMM5775</th>\n",
       "      <th>COMM5942</th>\n",
       "    </tr>\n",
       "  </thead>\n",
       "  <tbody>\n",
       "    <tr>\n",
       "      <th>fist week</th>\n",
       "      <td>10</td>\n",
       "      <td>12</td>\n",
       "      <td>14</td>\n",
       "      <td>15</td>\n",
       "    </tr>\n",
       "    <tr>\n",
       "      <th>second week</th>\n",
       "      <td>2</td>\n",
       "      <td>4</td>\n",
       "      <td>8</td>\n",
       "      <td>7</td>\n",
       "    </tr>\n",
       "    <tr>\n",
       "      <th>third week</th>\n",
       "      <td>6</td>\n",
       "      <td>8</td>\n",
       "      <td>7</td>\n",
       "      <td>9</td>\n",
       "    </tr>\n",
       "    <tr>\n",
       "      <th>fourth week</th>\n",
       "      <td>4</td>\n",
       "      <td>10</td>\n",
       "      <td>12</td>\n",
       "      <td>13</td>\n",
       "    </tr>\n",
       "  </tbody>\n",
       "</table>\n",
       "</div>"
      ],
      "text/plain": [
       "            COMM5961 COMM5950 COMM5775 COMM5942\n",
       "fist week         10       12       14       15\n",
       "second week        2        4        8        7\n",
       "third week         6        8        7        9\n",
       "fourth week        4       10       12       13"
      ]
     },
     "execution_count": 102,
     "metadata": {},
     "output_type": "execute_result"
    }
   ],
   "source": [
    "#COMM5961: 10/12/14/15;   COMM5950: 2/4/8/7;    COMM5775: 6/8/7/9;    COMM5942: 4/10/12/13\n",
    "\n",
    "tn=['COMM5961', 'COMM5950', 'COMM5775', 'COMM5942']\n",
    "\n",
    "L=[]\n",
    "\n",
    "for i in range (1,5):\n",
    "    print(\"Enter the study time in \"+ str(i) +\" week :\")\n",
    "    \n",
    "    hrs={}\n",
    "    for x in tn:\n",
    "        hrs_w= input(\"Enter the time spent on \"+ x+\":\")\n",
    "        hrs[x]=hrs_w\n",
    "    L.append(hrs)        \n",
    "print(L)\n",
    "\n",
    "\n",
    "import pandas as pd\n",
    "df = pd.DataFrame(L, index=[\"fist week\",\"second week\",\"third week\",\"fourth week\"])\n",
    "print(df)\n",
    "df\n",
    "\n",
    "df.to_csv('L.csv',mode='w')\n",
    "df\n",
    "\n",
    "\n",
    "\n",
    "\n",
    "\n",
    "    "
   ]
  },
  {
   "cell_type": "markdown",
   "id": "8c79841d",
   "metadata": {},
   "source": [
    "\n",
    "    \n",
    "\n",
    "\n",
    "\n"
   ]
  },
  {
   "cell_type": "code",
   "execution_count": 106,
   "id": "1240dae6",
   "metadata": {},
   "outputs": [
    {
     "data": {
      "text/html": [
       "<div>\n",
       "<style scoped>\n",
       "    .dataframe tbody tr th:only-of-type {\n",
       "        vertical-align: middle;\n",
       "    }\n",
       "\n",
       "    .dataframe tbody tr th {\n",
       "        vertical-align: top;\n",
       "    }\n",
       "\n",
       "    .dataframe thead th {\n",
       "        text-align: right;\n",
       "    }\n",
       "</style>\n",
       "<table border=\"1\" class=\"dataframe\">\n",
       "  <thead>\n",
       "    <tr style=\"text-align: right;\">\n",
       "      <th></th>\n",
       "      <th>Unnamed: 0</th>\n",
       "      <th>COMM5961</th>\n",
       "      <th>COMM5950</th>\n",
       "      <th>COMM5775</th>\n",
       "      <th>COMM5942</th>\n",
       "    </tr>\n",
       "  </thead>\n",
       "  <tbody>\n",
       "    <tr>\n",
       "      <th>0</th>\n",
       "      <td>fist week</td>\n",
       "      <td>10</td>\n",
       "      <td>12</td>\n",
       "      <td>14</td>\n",
       "      <td>15</td>\n",
       "    </tr>\n",
       "    <tr>\n",
       "      <th>1</th>\n",
       "      <td>second week</td>\n",
       "      <td>2</td>\n",
       "      <td>4</td>\n",
       "      <td>8</td>\n",
       "      <td>7</td>\n",
       "    </tr>\n",
       "    <tr>\n",
       "      <th>2</th>\n",
       "      <td>third week</td>\n",
       "      <td>6</td>\n",
       "      <td>8</td>\n",
       "      <td>7</td>\n",
       "      <td>9</td>\n",
       "    </tr>\n",
       "    <tr>\n",
       "      <th>3</th>\n",
       "      <td>fourth week</td>\n",
       "      <td>4</td>\n",
       "      <td>10</td>\n",
       "      <td>12</td>\n",
       "      <td>13</td>\n",
       "    </tr>\n",
       "  </tbody>\n",
       "</table>\n",
       "</div>"
      ],
      "text/plain": [
       "    Unnamed: 0  COMM5961  COMM5950  COMM5775  COMM5942\n",
       "0    fist week        10        12        14        15\n",
       "1  second week         2         4         8         7\n",
       "2   third week         6         8         7         9\n",
       "3  fourth week         4        10        12        13"
      ]
     },
     "execution_count": 106,
     "metadata": {},
     "output_type": "execute_result"
    }
   ],
   "source": [
    "import pandas as pd\n",
    "df=pd.read_csv('L.csv')\n",
    "df\n",
    "\n",
    "\n"
   ]
  },
  {
   "cell_type": "code",
   "execution_count": 36,
   "id": "13db4cd7",
   "metadata": {},
   "outputs": [
    {
     "data": {
      "image/png": "[encoded data removed]",
      "text/plain": [
       "<Figure size 432x288 with 1 Axes>"
      ]
     },
     "metadata": {
      "needs_background": "light"
     },
     "output_type": "display_data"
    }
   ],
   "source": [
    "from matplotlib import pyplot as plt\n",
    "week=[ 1, 2, 3, 4]\n",
    "COMM5961=[10, 12, 14, 15]\n",
    "COMM5950=[2, 4, 8, 7]\n",
    "COMM5775=[6, 8, 7, 9]\n",
    "COMM5942=[4, 10, 12, 13]\n",
    "plt.plot(week, COMM5961, color='purple', linestyle='--')\n",
    "plt.plot(week, COMM5950,color='green', marker='s')\n",
    "plt.plot(week, COMM5775,color='blue', marker='o')\n",
    "plt.plot(week, COMM5942,color='pink' )\n",
    "plt.legend(['COMM5961','COMM5950','COMM5775','COMM5942'])\n",
    "plt.xlabel(\"Week\")\n",
    "plt.ylabel(\"Time h\")\n",
    "plt.title('Time spent on each class')\n",
    "plt.show()\n",
    "   \n",
    "\n",
    "    \n",
    "\n",
    "        \n",
    "        \n",
    "        \n",
    "\n"
   ]
  },
  {
   "cell_type": "markdown",
   "id": "7754dbb8",
   "metadata": {},
   "source": []
  },
  {
   "cell_type": "code",
   "execution_count": 95,
   "id": "e8ba8a3e",
   "metadata": {},
   "outputs": [
    {
     "name": "stdout",
     "output_type": "stream",
     "text": [
      "Enter the time spent on COMM5961 each week:\n",
      "fist week:10\n",
      "second week:12\n",
      "third week:14\n",
      "fourth week:15\n",
      "total hour: 51.0\n",
      "average hour: 12.75\n",
      "Enter the time spent on COMM5950 each week:\n",
      "fist week:2\n",
      "second week:4\n",
      "third week:8\n",
      "fourth week:7\n",
      "total hour: 21.0\n",
      "average hour: 5.25\n",
      "Enter the time spent on COMM5775 each week:\n",
      "fist week:6\n",
      "second week:8\n",
      "third week:7\n",
      "fourth week:9\n",
      "total hour: 30.0\n",
      "average hour: 7.5\n",
      "Enter the time spent on COMM5942 each week:\n",
      "fist week:4\n",
      "second week:10\n",
      "third week:12\n",
      "fourth week:13\n",
      "total hour: 39.0\n",
      "average hour: 9.75\n"
     ]
    }
   ],
   "source": [
    "   \n",
    "tn=['COMM5961', 'COMM5950', 'COMM5775', 'COMM5942'] \n",
    "time=[\"fist week\",\"second week\",\"third week\",\"fourth week\"]\n",
    "for i in tn:\n",
    "        total=0\n",
    "        print(\"Enter the time spent on \"+ i+\" each week:\")\n",
    "        \n",
    "        for x in time:\n",
    "            hrs=input(x +\":\") \n",
    "            \n",
    "            total=total+float(hrs)\n",
    "            \n",
    "            average_hour=round((total/4),2)\n",
    "        print(\"total hour: \"+ str(total))            \n",
    "        print(\"average hour: \" + str(average_hour)) \n",
    "       \n",
    "    \n",
    "    "
   ]
  },
  {
   "cell_type": "markdown",
   "id": "12822cc5",
   "metadata": {},
   "source": [
    "### "
   ]
  },
  {
   "cell_type": "code",
   "execution_count": null,
   "id": "0bc2b68c",
   "metadata": {},
   "outputs": [],
   "source": []
  },
  {
   "cell_type": "code",
   "execution_count": null,
   "id": "273fab7a",
   "metadata": {},
   "outputs": [],
   "source": []
  },
  {
   "cell_type": "code",
   "execution_count": null,
   "id": "8afa3ae8",
   "metadata": {},
   "outputs": [],
   "source": []
  }
 ],
 "metadata": {
  "kernelspec": {
   "display_name": "Python 3",
   "language": "python",
   "name": "python3"
  },
  "language_info": {
   "codemirror_mode": {
    "name": "ipython",
    "version": 3
   },
   "file_extension": ".py",
   "mimetype": "text/x-python",
   "name": "python",
   "nbconvert_exporter": "python",
   "pygments_lexer": "ipython3",
   "version": "3.8.8"
  }
 },
 "nbformat": 4,
 "nbformat_minor": 5
}
